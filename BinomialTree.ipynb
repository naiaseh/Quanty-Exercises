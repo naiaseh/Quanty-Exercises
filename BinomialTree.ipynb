{
 "cells": [
  {
   "cell_type": "code",
   "execution_count": 1,
   "metadata": {},
   "outputs": [],
   "source": [
    "import numpy as np"
   ]
  },
  {
   "cell_type": "code",
   "execution_count": 37,
   "metadata": {},
   "outputs": [],
   "source": [
    "UpMove = 2.\n",
    "DownMove = 0.5\n",
    "UpProb = 0.5\n",
    "DownProb = 0.5\n",
    "K = 100.\n",
    "r = 0.25\n",
    "t_steps = 8\n",
    "Put_option = 0.\n",
    "S0 = 4"
   ]
  },
  {
   "cell_type": "code",
   "execution_count": 20,
   "metadata": {},
   "outputs": [],
   "source": [
    "Stock_price_mat = np.zeros([t_steps, t_steps])\n",
    "Stock_price_mat[0,0] = S0\n",
    "for i in range(1,t_steps):\n",
    "    for m in range(i):\n",
    "        Stock_price_mat[m, i] = UpMove*Stock_price_mat[m,i-1]\n",
    "    \n",
    "    Stock_price_mat[m+1, i] = DownMove*Stock_price_mat[m,i-1]\n",
    "\n",
    "\n",
    "\n"
   ]
  },
  {
   "cell_type": "code",
   "execution_count": 45,
   "metadata": {},
   "outputs": [],
   "source": [
    "option_price_mat = np.zeros([t_steps, t_steps])\n",
    "discount_rate = 1/(1+r)"
   ]
  },
  {
   "cell_type": "code",
   "execution_count": 51,
   "metadata": {},
   "outputs": [],
   "source": [
    "for i in range(t_steps):\n",
    "    option_price_mat[i,t_steps-1] = np.max([0., K-Stock_price_mat[i, t_steps-1]])"
   ]
  },
  {
   "cell_type": "code",
   "execution_count": 52,
   "metadata": {},
   "outputs": [
    {
     "data": {
      "text/plain": [
       "array([ 0.     ,  0.     , 68.     , 92.     , 98.     , 99.5    ,\n",
       "       99.875  , 99.96875])"
      ]
     },
     "execution_count": 52,
     "metadata": {},
     "output_type": "execute_result"
    }
   ],
   "source": [
    "option_price_mat[:,t_steps-1]"
   ]
  },
  {
   "cell_type": "code",
   "execution_count": 67,
   "metadata": {},
   "outputs": [],
   "source": [
    "for i in range(t_steps-2, -1,-1):\n",
    "    for m in range(0,i+1):\n",
    "\n",
    "        option_price_mat[m,i] =  discount_rate*(UpProb*option_price_mat[m,i+1]+DownProb*option_price_mat[m+1,i+1])\n",
    "\n"
   ]
  },
  {
   "cell_type": "code",
   "execution_count": 69,
   "metadata": {},
   "outputs": [
    {
     "data": {
      "text/plain": [
       "17.967667200000005"
      ]
     },
     "execution_count": 69,
     "metadata": {},
     "output_type": "execute_result"
    }
   ],
   "source": [
    "option_price_mat[0,0]"
   ]
  },
  {
   "cell_type": "code",
   "execution_count": 59,
   "metadata": {},
   "outputs": [
    {
     "data": {
      "text/plain": [
       "64.0"
      ]
     },
     "execution_count": 59,
     "metadata": {},
     "output_type": "execute_result"
    }
   ],
   "source": []
  },
  {
   "cell_type": "code",
   "execution_count": null,
   "metadata": {},
   "outputs": [],
   "source": []
  }
 ],
 "metadata": {
  "kernelspec": {
   "display_name": "base",
   "language": "python",
   "name": "python3"
  },
  "language_info": {
   "codemirror_mode": {
    "name": "ipython",
    "version": 3
   },
   "file_extension": ".py",
   "mimetype": "text/x-python",
   "name": "python",
   "nbconvert_exporter": "python",
   "pygments_lexer": "ipython3",
   "version": "3.9.17"
  },
  "orig_nbformat": 4
 },
 "nbformat": 4,
 "nbformat_minor": 2
}
